{
 "cells": [
  {
   "cell_type": "code",
   "execution_count": 1,
   "id": "5618f12a",
   "metadata": {},
   "outputs": [
    {
     "name": "stderr",
     "output_type": "stream",
     "text": [
      "C:\\Users\\minu\\anaconda3\\Lib\\site-packages\\pandas\\core\\arrays\\masked.py:60: UserWarning: Pandas requires version '1.3.6' or newer of 'bottleneck' (version '1.3.5' currently installed).\n",
      "  from pandas.core import (\n"
     ]
    }
   ],
   "source": [
    "import pandas as pd\n",
    "import numpy as np\n",
    "import matplotlib.pyplot as plt\n",
    "from PIL import Image, ImageDraw, ImageFont\n",
    "import random\n",
    "import os"
   ]
  },
  {
   "cell_type": "code",
   "execution_count": 2,
   "id": "4cf652dc",
   "metadata": {},
   "outputs": [
    {
     "ename": "NameError",
     "evalue": "name 'last_names' is not defined",
     "output_type": "error",
     "traceback": [
      "\u001b[1;31m---------------------------------------------------------------------------\u001b[0m",
      "\u001b[1;31mNameError\u001b[0m                                 Traceback (most recent call last)",
      "Cell \u001b[1;32mIn[2], line 1\u001b[0m\n\u001b[1;32m----> 1\u001b[0m \u001b[38;5;28mlen\u001b[39m(last_names)\n",
      "\u001b[1;31mNameError\u001b[0m: name 'last_names' is not defined"
     ]
    }
   ],
   "source": [
    "len(last_names)"
   ]
  },
  {
   "cell_type": "code",
   "execution_count": 2,
   "id": "5f111930",
   "metadata": {},
   "outputs": [],
   "source": [
    "last_names = ['김', '이', '박', '최', '정', '강', '조', '윤', '장', '한']\n",
    "first_syllables = ['민', '서', '지', '현', '예', '다', '하', '유', '진', '태', '훈', '영', '수', '연', '호', '룡' , '갑' , '계' ,'례']\n",
    "\n",
    "# 신경과 진단 리스트\n",
    "diagnoses_pool = [\n",
    "    'Parkinson\\'s Disease', 'Epilepsy', 'Stroke', 'Migraine', 'Alzheimer\\'s Disease',\n",
    "    'Multiple Sclerosis', 'Bell\\'s Palsy', 'Peripheral Neuropathy', 'Dementia', 'Vertigo'\n",
    "]\n",
    "\n",
    "# 신경과 처방 리스트\n",
    "prescriptions_pool = [\n",
    "    '레보도파 1일 3회 복용', '항경련제 1일 2회', '항혈소판제 아침 식후', '진통제 필요시 복용',\n",
    "    '콜린에스터분해효소억제제 매일 복용', '면역조절제 주 1회', '스테로이드 크림 도포',\n",
    "    '비타민 B군 복합제 복용', '인지기능개선제 복용', '항현기증제 하루 2회'\n",
    "]\n",
    "\n",
    "# 시뮬레이션 환자 정보 생성 함수\n",
    "def generate_patient_records(n=30):\n",
    "    records = []\n",
    "    used_names = set()\n",
    "    \n",
    "    while len(records) < n:\n",
    "        name = random.choice(last_names) + random.choice(first_syllables) + random.choice(first_syllables)\n",
    "        # 이름 중복 허용\n",
    "        diagnosis = random.choice(diagnoses_pool)\n",
    "        prescription = random.choice(prescriptions_pool)\n",
    "        records.append({'name': name, 'diagnosis': diagnosis, 'prescription': prescription})\n",
    "    \n",
    "    return records\n",
    "\n",
    "# 30개 환자 데이터 생성\n",
    "simulated_data = generate_patient_records(30)\n",
    "df_simulated = pd.DataFrame(simulated_data)"
   ]
  },
  {
   "cell_type": "code",
   "execution_count": 7,
   "id": "90658023",
   "metadata": {},
   "outputs": [
    {
     "data": {
      "text/plain": [
       "0     정민연\n",
       "1     최유연\n",
       "2     최유수\n",
       "3     장유다\n",
       "4     박하하\n",
       "5     김호지\n",
       "6     김지진\n",
       "7     김영현\n",
       "8     이다유\n",
       "9     박지서\n",
       "10    한예민\n",
       "11    한영태\n",
       "12    한연영\n",
       "13    윤다훈\n",
       "14    윤지서\n",
       "15    박영예\n",
       "16    장태연\n",
       "17    조예연\n",
       "18    한훈예\n",
       "19    윤유예\n",
       "20    장지수\n",
       "21    정하민\n",
       "22    이다다\n",
       "23    박연서\n",
       "24    윤영하\n",
       "25    강서하\n",
       "26    조유현\n",
       "27    정연연\n",
       "28    박유태\n",
       "29    이민연\n",
       "Name: name, dtype: object"
      ]
     },
     "execution_count": 7,
     "metadata": {},
     "output_type": "execute_result"
    }
   ],
   "source": [
    "df_simulated['name']"
   ]
  },
  {
   "cell_type": "code",
   "execution_count": 11,
   "id": "117c5b65",
   "metadata": {},
   "outputs": [
    {
     "data": {
      "text/plain": [
       "['data_example\\\\patient_1.png',\n",
       " 'data_example\\\\patient_2.png',\n",
       " 'data_example\\\\patient_3.png',\n",
       " 'data_example\\\\patient_4.png',\n",
       " 'data_example\\\\patient_5.png',\n",
       " 'data_example\\\\patient_6.png',\n",
       " 'data_example\\\\patient_7.png',\n",
       " 'data_example\\\\patient_8.png',\n",
       " 'data_example\\\\patient_9.png',\n",
       " 'data_example\\\\patient_10.png',\n",
       " 'data_example\\\\patient_11.png',\n",
       " 'data_example\\\\patient_12.png',\n",
       " 'data_example\\\\patient_13.png',\n",
       " 'data_example\\\\patient_14.png',\n",
       " 'data_example\\\\patient_15.png',\n",
       " 'data_example\\\\patient_16.png',\n",
       " 'data_example\\\\patient_17.png',\n",
       " 'data_example\\\\patient_18.png',\n",
       " 'data_example\\\\patient_19.png',\n",
       " 'data_example\\\\patient_20.png',\n",
       " 'data_example\\\\patient_21.png',\n",
       " 'data_example\\\\patient_22.png',\n",
       " 'data_example\\\\patient_23.png',\n",
       " 'data_example\\\\patient_24.png',\n",
       " 'data_example\\\\patient_25.png',\n",
       " 'data_example\\\\patient_26.png',\n",
       " 'data_example\\\\patient_27.png',\n",
       " 'data_example\\\\patient_28.png',\n",
       " 'data_example\\\\patient_29.png',\n",
       " 'data_example\\\\patient_30.png']"
      ]
     },
     "execution_count": 11,
     "metadata": {},
     "output_type": "execute_result"
    }
   ],
   "source": [
    "folder_path = 'data_example'\n",
    "os.makedirs(folder_path, exist_ok=True)\n",
    "\n",
    "fontpath = \"fonts/gulim.ttc\"\n",
    "font = ImageFont.truetype(fontpath, 24)\n",
    "# 이미지 생성 및 저장\n",
    "\n",
    "\n",
    "\n",
    "image_paths = []\n",
    "\n",
    "for i in range(len(df_simulated)):\n",
    "    img = Image.new('RGB', (500, 200), color='white')\n",
    "    draw = ImageDraw.Draw(img)\n",
    "\n",
    "    # 테두리 박스\n",
    "    draw.rectangle([(10, 10), (490, 190)], outline='black', width=2)\n",
    "\n",
    "    # 제목\n",
    "   # draw.text((20, 20), \"신경과 외래 환자 기록\",  fill='black')\n",
    "\n",
    "    # 표 형태 정보 삽입\n",
    "    draw.text((40, 70), f\"이름        : {df_simulated['name'][i]}\", font=font, fill='black')\n",
    "    draw.text((40, 110), f\"진단명     : {df_simulated['diagnosis'][i]}\", font=font, fill='black')\n",
    "    draw.text((40, 150), f\"처방전     : {df_simulated['prescription'][i]}\", font=font, fill='black')\n",
    "\n",
    "    # 이미지 저장\n",
    "    path = os.path.join(folder_path, f'patient_{i+1}.png')\n",
    "    img.save(path)\n",
    "    image_paths.append(path)\n",
    "\n",
    "image_paths"
   ]
  },
  {
   "cell_type": "code",
   "execution_count": 8,
   "id": "7b40af38",
   "metadata": {},
   "outputs": [
    {
     "data": {
      "text/plain": [
       "['data_example\\\\patient_1.png',\n",
       " 'data_example\\\\patient_2.png',\n",
       " 'data_example\\\\patient_3.png',\n",
       " 'data_example\\\\patient_4.png',\n",
       " 'data_example\\\\patient_5.png',\n",
       " 'data_example\\\\patient_6.png',\n",
       " 'data_example\\\\patient_7.png',\n",
       " 'data_example\\\\patient_8.png',\n",
       " 'data_example\\\\patient_9.png',\n",
       " 'data_example\\\\patient_10.png']"
      ]
     },
     "execution_count": 8,
     "metadata": {},
     "output_type": "execute_result"
    }
   ],
   "source": [
    "import pandas as pd\n",
    "import numpy as np\n",
    "import matplotlib.pyplot as plt\n",
    "from PIL import Image, ImageDraw, ImageFont\n",
    "import random\n",
    "import os\n",
    "\n",
    "# 데이터 생성\n",
    "names = ['김민수', '이영희', '박준호', '최지은', '정현우', '강서연', '한지훈', '조은지', '윤태민', '서다영']\n",
    "diagnoses = ['Hypertension', 'Diabetes', 'Asthma', 'Migraine', 'Arthritis',\n",
    "             'Gastritis', 'Anemia', 'Epilepsy', 'Depression', 'Influenza']\n",
    "prescriptions = ['혈압약 하루 1회', '당뇨약 식후 1정', '흡입기 사용 하루 2회', '편두통 약 필요 시 복용', '관절염 연고 1일 2회',\n",
    "                 '위장약 아침 저녁 복용', '철분제 하루 1정', '항경련제 하루 2회', '항우울제 하루 1정', '감기약 하루 3회']\n",
    "\n",
    "# 이미지로 저장할 폴더 생성\n",
    "folder_path = 'data_example'\n",
    "os.makedirs(folder_path, exist_ok=True)\n",
    "\n",
    "fontpath = \"fonts/gulim.ttc\"\n",
    "font = ImageFont.truetype(fontpath, 24)\n",
    "# 이미지 생성 및 저장\n",
    "image_paths = []\n",
    "for i in range(10):\n",
    "    img = Image.new('RGB', (400, 150), color='white')\n",
    "    d = ImageDraw.Draw(img)\n",
    "    text = f\"이름: {names[i]}\\n진단: {diagnoses[i]}\\n처방: {prescriptions[i]}\"\n",
    "    d.text((10, 10), text, font=font, fill='black')\n",
    "    image_path = os.path.join(folder_path, f'patient_{i+1}.png')\n",
    "    img.save(image_path)\n",
    "    image_paths.append(image_path)\n",
    "\n",
    "image_paths\n"
   ]
  },
  {
   "cell_type": "code",
   "execution_count": 13,
   "id": "6bdac537",
   "metadata": {},
   "outputs": [
    {
     "name": "stdout",
     "output_type": "stream",
     "text": [
      "    이름                  진단명            처방전\n",
      "0  이민영             Migraine    진통제 필요 시 복용\n",
      "1  최지영             Epilepsy     근이완제 1일 2회\n",
      "2  장서태  Alzheimer's Disease  레보도파 1일 3회 복용\n",
      "3  김서현   Hemorrhagic Stroke     인지기능개선제 복용\n",
      "4  한민진   Hemorrhagic Stroke   칼슘채널차단제 필요 시\n",
      "✔ 이미지 30장이 'simulation' 폴더에 저장되었습니다.\n"
     ]
    }
   ],
   "source": [
    "import os, random, pandas as pd\n",
    "from PIL import Image, ImageDraw, ImageFont\n",
    "\n",
    "# ──────────────────────────────────────────────\n",
    "# 1) 이름·진단·처방 풀 준비\n",
    "# ──────────────────────────────────────────────\n",
    "last_names       = ['김', '이', '박', '최', '정', '강', '조', '윤', '장', '한']\n",
    "first_syllables  = ['민', '서', '지', '현', '예', '다', '하', '유', '진', '태', '훈', '영', '수', '연', '호']\n",
    "\n",
    "diagnoses_pool = [                    # - 신경과 진단(영어)\n",
    "    \"Parkinson's Disease\", \"Epilepsy\", \"Ischemic Stroke\", \"Hemorrhagic Stroke\",\n",
    "    \"Migraine\", \"Cluster Headache\", \"Alzheimer's Disease\", \"Dementia\",\n",
    "    \"Multiple Sclerosis\", \"Peripheral Neuropathy\", \"Myasthenia Gravis\",\n",
    "    \"Trigeminal Neuralgia\", \"Bell's Palsy\", \"Amyotrophic Lateral Sclerosis\",\n",
    "    \"Vertigo\"\n",
    "]\n",
    "\n",
    "prescriptions_pool = [                # - 신경과 처방(한글)\n",
    "    \"레보도파 1일 3회 복용\",\n",
    "    \"항경련제 1일 2회\",\n",
    "    \"항혈소판제 아침 식후\",\n",
    "    \"진통제 필요 시 복용\",\n",
    "    \"콜린에스터분해효소억제제 매일 복용\",\n",
    "    \"면역조절제 주 1회\",\n",
    "    \"스테로이드 정맥주사\",\n",
    "    \"신경통 완화제 1일 2회\",\n",
    "    \"인지기능개선제 복용\",\n",
    "    \"항현기증제 1일 3회\",\n",
    "    \"근이완제 1일 2회\",\n",
    "    \"칼슘채널차단제 필요 시\"\n",
    "]\n",
    "\n",
    "# ──────────────────────────────────────────────\n",
    "# 2) 시뮬레이션 환자 30명 생성 함수\n",
    "# ──────────────────────────────────────────────\n",
    "def generate_patient_records(n=30, seed=42):\n",
    "    random.seed(seed)\n",
    "    records = []\n",
    "    for _ in range(n):\n",
    "        name = random.choice(last_names) + random.choice(first_syllables) + random.choice(first_syllables)\n",
    "        diagnosis = random.choice(diagnoses_pool)\n",
    "        prescription = random.choice(prescriptions_pool)\n",
    "        records.append({\"이름\": name, \"진단명\": diagnosis, \"처방전\": prescription})\n",
    "    return pd.DataFrame(records)\n",
    "\n",
    "df = generate_patient_records(30)\n",
    "print(df.head())            # 확인용\n",
    "\n",
    "# ──────────────────────────────────────────────\n",
    "# 3) 각 환자 정보를 표 형태 PNG 로 저장\n",
    "# ──────────────────────────────────────────────\n",
    "FONT_PATH = \"fonts/gulim.ttc\"         # ⇐ 맞는 경로로 바꿔주세요\n",
    "font_regular = ImageFont.truetype(FONT_PATH, 22)\n",
    "font_bold    = ImageFont.truetype(FONT_PATH, 24)\n",
    "\n",
    "save_dir = \"simulation\"\n",
    "os.makedirs(save_dir, exist_ok=True)\n",
    "\n",
    "for idx, row in df.iterrows():\n",
    "    img = Image.new(\"RGB\", (600, 240), \"white\")\n",
    "    draw = ImageDraw.Draw(img)\n",
    "\n",
    "    # 테두리·제목\n",
    "    draw.rectangle([10, 10, 590, 230], outline=\"black\", width=2)\n",
    "    draw.text((25, 25), \"신경과 외래 환자 기록\", font=font_bold, fill=\"black\")\n",
    "\n",
    "    # 표 내용\n",
    "    draw.text((50, 90), f\"이름      : {row['이름']}\", font=font_regular, fill=\"black\")\n",
    "    draw.text((50, 140), f\"진단명    : {row['진단명']}\", font=font_regular, fill=\"black\")\n",
    "    draw.text((50, 190), f\"처방전    : {row['처방전']}\", font=font_regular, fill=\"black\")\n",
    "\n",
    "    img.save(f\"{save_dir}/patient_{idx+1:02}.png\")\n",
    "\n",
    "print(f\"✔ 이미지 30장이 '{save_dir}' 폴더에 저장되었습니다.\")\n"
   ]
  },
  {
   "cell_type": "code",
   "execution_count": 3,
   "id": "5afe2262",
   "metadata": {},
   "outputs": [],
   "source": [
    "last_names      = ['김','이','박','최','정','강','조','윤','장','한']\n",
    "first_syllables = ['민','서','지','현','예','다','하','유','진','태','훈','영','수','연','호','례', '복' ,'순','점','옹', '철']\n",
    "\n",
    "diagnoses_pool = [                             # 신경과 진단(영어) + 이상없음\n",
    "    \"Parkinson's Disease\",\"Epilepsy\",\"Ischemic Stroke\",\"Hemorrhagic Stroke\",\n",
    "    \"Migraine\",\"Cluster Headache\",\"Alzheimer's Disease\",\"Dementia\",\n",
    "    \"Multiple Sclerosis\",\"Peripheral Neuropathy\",\"Myasthenia Gravis\",\n",
    "    \"Trigeminal Neuralgia\",\"Bell's Palsy\",\"Amyotrophic Lateral Sclerosis\",\n",
    "    \"Vertigo\",\"이상없음\"                    # 추가\n",
    "]\n",
    "\n",
    "prescriptions_pool = [                         # 신경과 처방(한글)\n",
    "    \"레보도파 1일 3회 복용\",\"항경련제 1일 2회\",\"항혈소판제 아침 식후\",\n",
    "    \"진통제 필요 시 복용\",\"콜린에스터분해효소억제제 매일 복용\",\n",
    "    \"면역조절제 주 1회\",\"스테로이드 정맥주사\",\"신경통 완화제 1일 2회\",\n",
    "    \"인지기능개선제 복용\",\"항현기증제 1일 3회\",\"근이완제 1일 2회\",\n",
    "    \"칼슘채널차단제 필요 시\",\"해당없음\"        # 추가\n",
    "]"
   ]
  },
  {
   "cell_type": "code",
   "execution_count": 9,
   "id": "eb9163a2",
   "metadata": {},
   "outputs": [
    {
     "data": {
      "text/plain": [
       "4410"
      ]
     },
     "execution_count": 9,
     "metadata": {},
     "output_type": "execute_result"
    }
   ],
   "source": [
    "len(last_names) * len(first_syllables)*len(first_syllables)"
   ]
  },
  {
   "cell_type": "code",
   "execution_count": 11,
   "id": "4af8fcb3",
   "metadata": {},
   "outputs": [
    {
     "data": {
      "text/plain": [
       "(10, 16, 13)"
      ]
     },
     "execution_count": 11,
     "metadata": {},
     "output_type": "execute_result"
    }
   ],
   "source": [
    "len(last_names) , len(diagnoses_pool),len(prescriptions_pool )"
   ]
  },
  {
   "cell_type": "code",
   "execution_count": 12,
   "id": "dc3a58d3",
   "metadata": {},
   "outputs": [
    {
     "data": {
      "text/plain": [
       "917280"
      ]
     },
     "execution_count": 12,
     "metadata": {},
     "output_type": "execute_result"
    }
   ],
   "source": [
    "4410*16*13"
   ]
  },
  {
   "cell_type": "code",
   "execution_count": 13,
   "id": "62f37e44",
   "metadata": {},
   "outputs": [
    {
     "name": "stdout",
     "output_type": "stream",
     "text": [
      "    이름                            진단명          처방전\n",
      "0  이민진                       Dementia  진통제 필요 시 복용\n",
      "1  박현순                Ischemic Stroke  항현기증제 1일 3회\n",
      "2  조서민                Ischemic Stroke  진통제 필요 시 복용\n",
      "3  최복옹            Parkinson's Disease   인지기능개선제 복용\n",
      "4  최철순  Amyotrophic Lateral Sclerosis  진통제 필요 시 복용\n",
      "30개 이미지 → ./neuro_patient_images/ 에 저장 완료\n"
     ]
    }
   ],
   "source": [
    "import os, random, pandas as pd\n",
    "from PIL import Image, ImageDraw, ImageFont\n",
    "\n",
    "\n",
    "# ── 1. 풀(pool) 정의 ────────────────────────────────────────────\n",
    "last_names      = ['김','이','박','최','정','강','조','윤','장','한']\n",
    "first_syllables = ['민','서','지','현','예','다','하','유','진','태','훈','영','수','연','호','례', '복' ,'순','점','옹', '철']\n",
    "\n",
    "diagnoses_pool = [                             # 신경과 진단(영어) + 이상없음\n",
    "    \"Parkinson's Disease\",\"Epilepsy\",\"Ischemic Stroke\",\"Hemorrhagic Stroke\",\n",
    "    \"Migraine\",\"Cluster Headache\",\"Alzheimer's Disease\",\"Dementia\",\n",
    "    \"Multiple Sclerosis\",\"Peripheral Neuropathy\",\"Myasthenia Gravis\",\n",
    "    \"Trigeminal Neuralgia\",\"Bell's Palsy\",\"Amyotrophic Lateral Sclerosis\",\n",
    "    \"Vertigo\",\"이상없음\"                    # 추가\n",
    "]\n",
    "\n",
    "prescriptions_pool = [                         # 신경과 처방(한글)\n",
    "    \"레보도파 1일 3회 복용\",\"항경련제 1일 2회\",\"항혈소판제 아침 식후\",\n",
    "    \"진통제 필요 시 복용\",\"콜린에스터분해효소억제제 매일 복용\",\n",
    "    \"면역조절제 주 1회\",\"스테로이드 정맥주사\",\"신경통 완화제 1일 2회\",\n",
    "    \"인지기능개선제 복용\",\"항현기증제 1일 3회\",\"근이완제 1일 2회\",\n",
    "    \"칼슘채널차단제 필요 시\",\"해당없음\"        # 추가\n",
    "]\n",
    "\n",
    "# ── 2. 환자 데이터 생성 함수 ────────────────────────────────────\n",
    "def generate_patient_records(n=30, seed=42):\n",
    "    random.seed(seed)\n",
    "    records = []\n",
    "    for _ in range(n):\n",
    "        # 이름(세 글자) 생성\n",
    "        name = random.choice(last_names) + random.choice(first_syllables) + random.choice(first_syllables)\n",
    "\n",
    "        # 진단 랜덤 선택\n",
    "        diagnosis = random.choice(diagnoses_pool)\n",
    "\n",
    "        # 처방 규칙: 이상없음 → 해당없음 / 그 외 → 해당없음 제외하고 랜덤\n",
    "        if diagnosis == \"이상없음\":\n",
    "            prescription = \"해당없음\"\n",
    "        else:\n",
    "            # '해당없음'을 제외한 리스트\n",
    "            valid_prescriptions = [p for p in prescriptions_pool if p != \"해당없음\"]\n",
    "            prescription = random.choice(valid_prescriptions)\n",
    "\n",
    "        records.append({\"이름\": name, \"진단명\": diagnosis, \"처방전\": prescription})\n",
    "    return pd.DataFrame(records)\n",
    "\n",
    "# ── 3. 예시 실행 ────────────────────────────────────────────────\n",
    "df = generate_patient_records(1000)\n",
    "print(df.head())\n",
    "\n",
    "\n",
    "# ── 이미지 생성 ────────────────────────────────────────────────\n",
    "FONT_PATH   = \"fonts/gulim.ttc\"      # 한글 TTF/OTF 경로로 교체\n",
    "font        = ImageFont.truetype(FONT_PATH, 22)\n",
    "font_title  = ImageFont.truetype(FONT_PATH, 24)\n",
    "\n",
    "save_dir = \"neuro_patient_images\"\n",
    "os.makedirs(save_dir, exist_ok=True)\n",
    "\n",
    "for idx, row in df.iterrows():\n",
    "    W, H = 600, 240          # 폭, 높이\n",
    "    img  = Image.new(\"RGB\", (W, H), \"white\")\n",
    "    d    = ImageDraw.Draw(img)\n",
    "\n",
    "    # ① 바깥 테두리\n",
    "    d.rectangle([10, 10, W-10, H-10], outline=\"black\", width=2)\n",
    "\n",
    "    # ② 제목\n",
    "    d.text((25, 25), \"신경과 외래 환자 기록\", font=font_title, fill=\"black\")\n",
    "\n",
    "    # ③ 행별 텍스트\n",
    "    d.text((50,  80), f\"이름      : {row['이름']}\",   font=font, fill=\"black\")\n",
    "    d.text((50, 130), f\"진단명    : {row['진단명']}\", font=font, fill=\"black\")\n",
    "    d.text((50, 180), f\"처방전    : {row['처방전']}\", font=font, fill=\"black\")\n",
    "\n",
    "    # ④ 행 구분선 ── 여기만 추가 ───────────────────────────\n",
    "    d.line([(10, 70), (W-10, 70)], fill=\"black\", width=1)   # 제목 아래\n",
    "    d.line([(10, 120), (W-10, 120)], fill=\"black\", width=1) # 이름·진단 사이\n",
    "    d.line([(10, 170), (W-10, 170)], fill=\"black\", width=1) # 진단·처방 사이\n",
    "    # ─────────────────────────────────────────────────────\n",
    "\n",
    "    img.save(f\"{save_dir}/patient_{idx+1:02}.jpg\")\n",
    "\n",
    "print(f\"30개 이미지 → ./{save_dir}/ 에 저장 완료\")\n"
   ]
  },
  {
   "cell_type": "code",
   "execution_count": 14,
   "id": "43e7ec18",
   "metadata": {},
   "outputs": [],
   "source": [
    "df.to_csv(\"simul_label_jpg_y.csv\")"
   ]
  }
 ],
 "metadata": {
  "kernelspec": {
   "display_name": "Python 3 (ipykernel)",
   "language": "python",
   "name": "python3"
  },
  "language_info": {
   "codemirror_mode": {
    "name": "ipython",
    "version": 3
   },
   "file_extension": ".py",
   "mimetype": "text/x-python",
   "name": "python",
   "nbconvert_exporter": "python",
   "pygments_lexer": "ipython3",
   "version": "3.11.3"
  }
 },
 "nbformat": 4,
 "nbformat_minor": 5
}
