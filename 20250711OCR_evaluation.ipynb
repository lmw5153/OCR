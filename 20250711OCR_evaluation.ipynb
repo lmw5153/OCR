{
 "cells": [
  {
   "cell_type": "code",
   "execution_count": 73,
   "id": "be4ed416",
   "metadata": {},
   "outputs": [],
   "source": [
    "import numpy as np\n",
    "import pandas as pd\n",
    "import matplotlib.pyplot as plt"
   ]
  },
  {
   "cell_type": "code",
   "execution_count": 66,
   "id": "5260a632",
   "metadata": {},
   "outputs": [
    {
     "data": {
      "text/html": [
       "<div>\n",
       "<style scoped>\n",
       "    .dataframe tbody tr th:only-of-type {\n",
       "        vertical-align: middle;\n",
       "    }\n",
       "\n",
       "    .dataframe tbody tr th {\n",
       "        vertical-align: top;\n",
       "    }\n",
       "\n",
       "    .dataframe thead th {\n",
       "        text-align: right;\n",
       "    }\n",
       "</style>\n",
       "<table border=\"1\" class=\"dataframe\">\n",
       "  <thead>\n",
       "    <tr style=\"text-align: right;\">\n",
       "      <th></th>\n",
       "      <th>이름</th>\n",
       "      <th>진단명</th>\n",
       "      <th>처방전</th>\n",
       "    </tr>\n",
       "  </thead>\n",
       "  <tbody>\n",
       "    <tr>\n",
       "      <th>0</th>\n",
       "      <td>이민진</td>\n",
       "      <td>Dementia</td>\n",
       "      <td>진통제 필요 시 복용</td>\n",
       "    </tr>\n",
       "    <tr>\n",
       "      <th>1</th>\n",
       "      <td>박현순</td>\n",
       "      <td>Ischemic Stroke</td>\n",
       "      <td>항현기증제 1일 3회</td>\n",
       "    </tr>\n",
       "    <tr>\n",
       "      <th>2</th>\n",
       "      <td>조서민</td>\n",
       "      <td>Ischemic Stroke</td>\n",
       "      <td>진통제 필요 시 복용</td>\n",
       "    </tr>\n",
       "    <tr>\n",
       "      <th>3</th>\n",
       "      <td>최복옹</td>\n",
       "      <td>Parkinson's Disease</td>\n",
       "      <td>인지기능개선제 복용</td>\n",
       "    </tr>\n",
       "    <tr>\n",
       "      <th>4</th>\n",
       "      <td>최철순</td>\n",
       "      <td>Amyotrophic Lateral Sclerosis</td>\n",
       "      <td>진통제 필요 시 복용</td>\n",
       "    </tr>\n",
       "    <tr>\n",
       "      <th>...</th>\n",
       "      <td>...</td>\n",
       "      <td>...</td>\n",
       "      <td>...</td>\n",
       "    </tr>\n",
       "    <tr>\n",
       "      <th>995</th>\n",
       "      <td>조민유</td>\n",
       "      <td>Epilepsy</td>\n",
       "      <td>항혈소판제 아침 식후</td>\n",
       "    </tr>\n",
       "    <tr>\n",
       "      <th>996</th>\n",
       "      <td>한점다</td>\n",
       "      <td>Migraine</td>\n",
       "      <td>근이완제 1일 2회</td>\n",
       "    </tr>\n",
       "    <tr>\n",
       "      <th>997</th>\n",
       "      <td>장서점</td>\n",
       "      <td>Migraine</td>\n",
       "      <td>레보도파 1일 3회 복용</td>\n",
       "    </tr>\n",
       "    <tr>\n",
       "      <th>998</th>\n",
       "      <td>박진다</td>\n",
       "      <td>Bell's Palsy</td>\n",
       "      <td>항현기증제 1일 3회</td>\n",
       "    </tr>\n",
       "    <tr>\n",
       "      <th>999</th>\n",
       "      <td>한철민</td>\n",
       "      <td>Peripheral Neuropathy</td>\n",
       "      <td>항경련제 1일 2회</td>\n",
       "    </tr>\n",
       "  </tbody>\n",
       "</table>\n",
       "<p>1000 rows × 3 columns</p>\n",
       "</div>"
      ],
      "text/plain": [
       "      이름                            진단명            처방전\n",
       "0    이민진                       Dementia    진통제 필요 시 복용\n",
       "1    박현순                Ischemic Stroke    항현기증제 1일 3회\n",
       "2    조서민                Ischemic Stroke    진통제 필요 시 복용\n",
       "3    최복옹            Parkinson's Disease     인지기능개선제 복용\n",
       "4    최철순  Amyotrophic Lateral Sclerosis    진통제 필요 시 복용\n",
       "..   ...                            ...            ...\n",
       "995  조민유                       Epilepsy    항혈소판제 아침 식후\n",
       "996  한점다                       Migraine     근이완제 1일 2회\n",
       "997  장서점                       Migraine  레보도파 1일 3회 복용\n",
       "998  박진다                   Bell's Palsy    항현기증제 1일 3회\n",
       "999  한철민          Peripheral Neuropathy     항경련제 1일 2회\n",
       "\n",
       "[1000 rows x 3 columns]"
      ]
     },
     "execution_count": 66,
     "metadata": {},
     "output_type": "execute_result"
    }
   ],
   "source": [
    "y = pd.read_csv(\"simul_label_jpg_y.csv\").iloc[:,1:]\n",
    "\n",
    "y"
   ]
  },
  {
   "cell_type": "code",
   "execution_count": 18,
   "id": "fd0a6bdb",
   "metadata": {},
   "outputs": [
    {
     "data": {
      "text/plain": [
       "(array([957.,   0.,   0.,   0.,   0.,   0.,   0.,   0.,   0.,  43.]),\n",
       " array([7. , 7.1, 7.2, 7.3, 7.4, 7.5, 7.6, 7.7, 7.8, 7.9, 8. ]),\n",
       " <BarContainer object of 10 artists>)"
      ]
     },
     "execution_count": 18,
     "metadata": {},
     "output_type": "execute_result"
    },
    {
     "data": {
      "image/png": "[encoded data removed]",
      "text/plain": [
       "<Figure size 640x480 with 1 Axes>"
      ]
     },
     "metadata": {},
     "output_type": "display_data"
    }
   ],
   "source": [
    "df = pd.read_csv(\"result0710.csv\").iloc[:,1:]\n",
    "\n",
    "\n",
    "ID = np.unique(df['filename'])\n",
    "\n",
    "\n",
    "\n",
    "\n",
    "def count_id(df, key):\n",
    "    lst = []\n",
    "    ID = np.unique(df[key])\n",
    "    for i in range(len(ID)):\n",
    "\n",
    "        a = len(df[df[key] == ID[i]])\n",
    "        lst.append(a)\n",
    "    return np.array(lst)\n",
    "id_count_str= count_id(df, 'filename')\n",
    "\n",
    "plt.hist(count_id(df, 'filename'))"
   ]
  },
  {
   "cell_type": "markdown",
   "id": "627f5329",
   "metadata": {},
   "source": [
    "- title\n",
    "- 이름\n",
    "- 이름 데이터\n",
    "- 진단명\n",
    "- 진단명 데이터\n",
    "- 처방전\n",
    "- 처방전 데이터"
   ]
  },
  {
   "cell_type": "code",
   "execution_count": 43,
   "id": "68c2d178",
   "metadata": {},
   "outputs": [
    {
     "data": {
      "text/plain": [
       "1006"
      ]
     },
     "execution_count": 43,
     "metadata": {},
     "output_type": "execute_result"
    }
   ],
   "source": [
    "len(j)"
   ]
  },
  {
   "cell_type": "code",
   "execution_count": 95,
   "id": "074f8981",
   "metadata": {},
   "outputs": [],
   "source": [
    "ID_7 , ID_8= ID[id_count_str == 7] , ID[id_count_str == 8]\n",
    "j = np.arange(1,len(ID_7),7)\n",
    "\n",
    "lst = []\n",
    "for i in range(len(j)):\n",
    "    a = df[df['filename'] == ID_7[i]]['confidence'].values\n",
    "    lst.append(a)"
   ]
  },
  {
   "cell_type": "code",
   "execution_count": 163,
   "id": "3569a343",
   "metadata": {},
   "outputs": [
    {
     "data": {
      "text/html": [
       "<div>\n",
       "<style scoped>\n",
       "    .dataframe tbody tr th:only-of-type {\n",
       "        vertical-align: middle;\n",
       "    }\n",
       "\n",
       "    .dataframe tbody tr th {\n",
       "        vertical-align: top;\n",
       "    }\n",
       "\n",
       "    .dataframe thead th {\n",
       "        text-align: right;\n",
       "    }\n",
       "</style>\n",
       "<table border=\"1\" class=\"dataframe\">\n",
       "  <thead>\n",
       "    <tr style=\"text-align: right;\">\n",
       "      <th></th>\n",
       "      <th>title</th>\n",
       "      <th>평균 confidence</th>\n",
       "      <th>CI 95% 낮음</th>\n",
       "      <th>CI 95% 높음</th>\n",
       "    </tr>\n",
       "  </thead>\n",
       "  <tbody>\n",
       "    <tr>\n",
       "      <th>0</th>\n",
       "      <td>main</td>\n",
       "      <td>0.8200</td>\n",
       "      <td>0.8200</td>\n",
       "      <td>0.8200</td>\n",
       "    </tr>\n",
       "    <tr>\n",
       "      <th>1</th>\n",
       "      <td>이름</td>\n",
       "      <td>1.0000</td>\n",
       "      <td>1.0000</td>\n",
       "      <td>1.0000</td>\n",
       "    </tr>\n",
       "    <tr>\n",
       "      <th>2</th>\n",
       "      <td>이름 데이터</td>\n",
       "      <td>0.8867</td>\n",
       "      <td>0.8575</td>\n",
       "      <td>0.9159</td>\n",
       "    </tr>\n",
       "    <tr>\n",
       "      <th>3</th>\n",
       "      <td>진단명</td>\n",
       "      <td>0.9915</td>\n",
       "      <td>0.9909</td>\n",
       "      <td>0.9921</td>\n",
       "    </tr>\n",
       "    <tr>\n",
       "      <th>4</th>\n",
       "      <td>진단명 데이터</td>\n",
       "      <td>0.8561</td>\n",
       "      <td>0.8289</td>\n",
       "      <td>0.8833</td>\n",
       "    </tr>\n",
       "    <tr>\n",
       "      <th>5</th>\n",
       "      <td>처방전</td>\n",
       "      <td>1.0000</td>\n",
       "      <td>1.0000</td>\n",
       "      <td>1.0000</td>\n",
       "    </tr>\n",
       "    <tr>\n",
       "      <th>6</th>\n",
       "      <td>처방전 데이터</td>\n",
       "      <td>0.6534</td>\n",
       "      <td>0.6156</td>\n",
       "      <td>0.6913</td>\n",
       "    </tr>\n",
       "  </tbody>\n",
       "</table>\n",
       "</div>"
      ],
      "text/plain": [
       "     title  평균 confidence  CI 95% 낮음  CI 95% 높음\n",
       "0     main         0.8200     0.8200     0.8200\n",
       "1       이름         1.0000     1.0000     1.0000\n",
       "2   이름 데이터         0.8867     0.8575     0.9159\n",
       "3      진단명         0.9915     0.9909     0.9921\n",
       "4  진단명 데이터         0.8561     0.8289     0.8833\n",
       "5      처방전         1.0000     1.0000     1.0000\n",
       "6  처방전 데이터         0.6534     0.6156     0.6913"
      ]
     },
     "execution_count": 163,
     "metadata": {},
     "output_type": "execute_result"
    }
   ],
   "source": [
    "import numpy as np\n",
    "import pandas as pd\n",
    "from scipy import stats\n",
    "\n",
    "# ── 입력 데이터 ──────────────────────────────\n",
    "arr = np.array(lst)          # (n_runs, n_metrics) 형태로 변환\n",
    "title = ['main', '이름', '이름 데이터',\n",
    "         '진단명', '진단명 데이터',\n",
    "         '처방전', '처방전 데이터']\n",
    "\n",
    "# ── 요약 통계 ────────────────────────────────\n",
    "n         = arr.shape[0]                   # 반복 횟수\n",
    "mean_pred = arr.mean(axis=0)               # 평균\n",
    "sem       = arr.std(axis=0, ddof=1) / np.sqrt(n)  # 표준오차\n",
    "t_crit    = stats.t.ppf(0.975, df=n-1)     # 양쪽 95 % CI에 해당하는 t 값\n",
    "half_w    = t_crit * sem                   # 신뢰구간 반폭\n",
    "\n",
    "ci_lower  = mean_pred - half_w\n",
    "ci_upper  = mean_pred + half_w\n",
    "\n",
    "# ── 결과 표 ─────────────────────────────────\n",
    "df = pd.DataFrame({\n",
    "    'title'          : title,\n",
    "    '평균 confidence': mean_pred.round(4),\n",
    "    'CI 95% 낮음'    : ci_lower.round(4),\n",
    "    'CI 95% 높음'    : ci_upper.round(4)\n",
    "})\n",
    "df.loc[]\n"
   ]
  },
  {
   "cell_type": "code",
   "execution_count": 74,
   "id": "d59b26f2",
   "metadata": {},
   "outputs": [
    {
     "data": {
      "text/html": [
       "<div>\n",
       "<style scoped>\n",
       "    .dataframe tbody tr th:only-of-type {\n",
       "        vertical-align: middle;\n",
       "    }\n",
       "\n",
       "    .dataframe tbody tr th {\n",
       "        vertical-align: top;\n",
       "    }\n",
       "\n",
       "    .dataframe thead th {\n",
       "        text-align: right;\n",
       "    }\n",
       "</style>\n",
       "<table border=\"1\" class=\"dataframe\">\n",
       "  <thead>\n",
       "    <tr style=\"text-align: right;\">\n",
       "      <th></th>\n",
       "      <th>title</th>\n",
       "      <th>평균 confidence</th>\n",
       "    </tr>\n",
       "  </thead>\n",
       "  <tbody>\n",
       "    <tr>\n",
       "      <th>0</th>\n",
       "      <td>main</td>\n",
       "      <td>0.8200</td>\n",
       "    </tr>\n",
       "    <tr>\n",
       "      <th>1</th>\n",
       "      <td>이름</td>\n",
       "      <td>1.0000</td>\n",
       "    </tr>\n",
       "    <tr>\n",
       "      <th>2</th>\n",
       "      <td>이름 데이터</td>\n",
       "      <td>0.8867</td>\n",
       "    </tr>\n",
       "    <tr>\n",
       "      <th>3</th>\n",
       "      <td>진단명</td>\n",
       "      <td>0.9915</td>\n",
       "    </tr>\n",
       "    <tr>\n",
       "      <th>4</th>\n",
       "      <td>진단명 데이터</td>\n",
       "      <td>0.8561</td>\n",
       "    </tr>\n",
       "    <tr>\n",
       "      <th>5</th>\n",
       "      <td>처방전</td>\n",
       "      <td>1.0000</td>\n",
       "    </tr>\n",
       "    <tr>\n",
       "      <th>6</th>\n",
       "      <td>처방전 데이터</td>\n",
       "      <td>0.6534</td>\n",
       "    </tr>\n",
       "  </tbody>\n",
       "</table>\n",
       "</div>"
      ],
      "text/plain": [
       "     title  평균 confidence\n",
       "0     main         0.8200\n",
       "1       이름         1.0000\n",
       "2   이름 데이터         0.8867\n",
       "3      진단명         0.9915\n",
       "4  진단명 데이터         0.8561\n",
       "5      처방전         1.0000\n",
       "6  처방전 데이터         0.6534"
      ]
     },
     "execution_count": 74,
     "metadata": {},
     "output_type": "execute_result"
    }
   ],
   "source": [
    "mean_pred= np.array(lst).mean(axis=0).round(4)\n",
    "title = ['main', '이름', '이름 데이터' , '진단명' , '진단명 데이터','처방전' , '처방전 데이터']\n",
    "a = {'title':title, '평균 confidence' : mean_pred}\n",
    "pd.DataFrame(a)"
   ]
  },
  {
   "cell_type": "code",
   "execution_count": 154,
   "id": "408c9332",
   "metadata": {
    "scrolled": true
   },
   "outputs": [],
   "source": [
    "ID_7_name_pred = np.array([df[df['filename'] == ID_7[i]]['text'].values[2] for i in range(len(ID_7))])\n",
    "ID_7_jin_pred = np.array([df[df['filename'] == ID_7[i]]['text'].values[4] for i in range(len(ID_7))])\n",
    "ID_7_che_pred = np.array([df[df['filename'] == ID_7[i]]['text'].values[6] for i in range(len(ID_7))])\n",
    "\n",
    "\n",
    "ID_8_name_pred = np.array([df[df['filename'] == ID_8[i]]['text'].values[2] for i in range(len(ID_8))])\n",
    "ID_8_jin_pred = np.array([df[df['filename'] == ID_8[i]]['text'].values[4] for i in range(len(ID_8))])\n",
    "ID_8_che_pred = np.array([df[df['filename'] == ID_8[i]]['text'].values[6] for i in range(len(ID_8))])"
   ]
  },
  {
   "cell_type": "code",
   "execution_count": 100,
   "id": "8bdef3fc",
   "metadata": {},
   "outputs": [
    {
     "name": "stdout",
     "output_type": "stream",
     "text": [
      "[104 135 160 220 245 258 279  29  31 330 332 342 350 364 366 377 399 428\n",
      " 442 483 491  52 566 626 630 653 658 671 677 698 712 740 744 752  79 791\n",
      " 807  82 833 959 964 971 996]\n"
     ]
    }
   ],
   "source": [
    "import re\n",
    "# 번호 추출 → 정수형 배열\n",
    "ids8 = np.array([int(re.search(r'_(\\d+)\\.jpg$', p).group(1)) for p in ID_8])\n",
    "ids7 = np.array([int(re.search(r'_(\\d+)\\.jpg$', p).group(1)) for p in ID_7])\n",
    "\n",
    "ID_7_real_y = y.iloc[ids7-1,:]\n",
    "ID_8_real_y = y.loc[~y.index.isin(ids7), :]"
   ]
  },
  {
   "cell_type": "code",
   "execution_count": 138,
   "id": "c7a1ea14",
   "metadata": {},
   "outputs": [
    {
     "name": "stdout",
     "output_type": "stream",
     "text": [
      "0.6875653082549634\n",
      "0.45245559038662486\n",
      "0.2884012539184953\n"
     ]
    }
   ],
   "source": [
    "print(sum(ID_7_name_pred == ID_7_real_y['이름'].values) / len(ID_7_name_pred ) )\n",
    "print(sum(ID_7_jin_pred == ID_7_real_y['진단명'].values) / len(ID_7_name_pred ) )\n",
    "print(sum(ID_7_che_pred == ID_7_real_y['처방전'].values) / len(ID_7_name_pred ) )"
   ]
  },
  {
   "cell_type": "code",
   "execution_count": 129,
   "id": "11d86e06",
   "metadata": {},
   "outputs": [
    {
     "data": {
      "text/plain": [
       "0"
      ]
     },
     "execution_count": 129,
     "metadata": {},
     "output_type": "execute_result"
    }
   ],
   "source": [
    "y1 = ID_7_name_pred \n",
    "y2= ID_7_real_y['이름'].values\n",
    "\n",
    "\n",
    "\n",
    "lev.distance(y1[1], y2[1]) "
   ]
  },
  {
   "cell_type": "code",
   "execution_count": 158,
   "id": "fae437a8",
   "metadata": {},
   "outputs": [
    {
     "name": "stdout",
     "output_type": "stream",
     "text": [
      "이름  정확도: 0.688  (95% CI 0.658–0.717)\n",
      "진단명 정확도: 0.452  (95% CI 0.421–0.484)\n",
      "처방전 정확도: 0.288  (95% CI 0.260–0.317)\n"
     ]
    }
   ],
   "source": [
    "import numpy as np\n",
    "from scipy import stats\n",
    "\n",
    "# ────────────────────────────────────────────────\n",
    "# 정확도 + 95 % 신뢰구간\n",
    "#   pred  : 예측 배열(시퀀스)\n",
    "#   true  : 실제 배열(시퀀스)\n",
    "#   alpha : 1-신뢰수준 (0.05 → 95 %)\n",
    "#   method: 'wilson' | 'normal' | 'clopper'\n",
    "# 반환값  : (정확도, CI 하한, CI 상한)\n",
    "# ────────────────────────────────────────────────\n",
    "def accuracy_ci(pred, true, alpha=0.05, method=\"wilson\"):\n",
    "    pred, true = np.asarray(pred), np.asarray(true)\n",
    "    if pred.shape[0] != true.shape[0]:\n",
    "        raise ValueError(\"pred와 true 길이가 다릅니다.\")\n",
    "\n",
    "    n  = pred.size\n",
    "    k  = int((pred == true).sum())   # 맞춘 개수\n",
    "    p  = k / n                       # 정확도\n",
    "    z  = stats.norm.ppf(1 - alpha/2) # 양측 z값 (≈1.96)\n",
    "\n",
    "    if method == \"normal\":           # 정규 근사\n",
    "        se  = np.sqrt(p * (1 - p) / n)\n",
    "        low = max(0.0, p - z * se)\n",
    "        high= min(1.0, p + z * se)\n",
    "\n",
    "    elif method == \"wilson\":         # Wilson score\n",
    "        denom = 1 + z**2 / n\n",
    "        centre= (p + z**2/(2*n)) / denom\n",
    "        half  = z * np.sqrt((p*(1 - p) + z**2/(4*n)) / n) / denom\n",
    "        low, high = centre - half, centre + half\n",
    "\n",
    "    elif method == \"clopper\":        # exact (beta)\n",
    "        low  = stats.beta.ppf(alpha/2, k, n - k + 1) if k > 0 else 0.0\n",
    "        high = stats.beta.ppf(1 - alpha/2, k + 1, n - k) if k < n else 1.0\n",
    "\n",
    "    else:\n",
    "        raise ValueError(\"method는 'normal', 'wilson', 'clopper' 중 하나여야 합니다.\")\n",
    "\n",
    "    return p, low, high\n",
    "\n",
    "\n",
    "name_acc, name_low, name_high = accuracy_ci(\n",
    "    ID_7_name_pred,\n",
    "    ID_7_real_y['이름'].values,method=\"normal\")\n",
    "\n",
    "jin_acc,  jin_low,  jin_high  = accuracy_ci(\n",
    "    ID_7_jin_pred,\n",
    "    ID_7_real_y['진단명'].values,method=\"normal\")\n",
    "\n",
    "che_acc,  che_low,  che_high  = accuracy_ci(\n",
    "    ID_7_che_pred,\n",
    "    ID_7_real_y['처방전'].values,method=\"normal\")\n",
    "\n",
    "print(f\"이름  정확도: {name_acc:.3f}  (95% CI {name_low:.3f}–{name_high:.3f})\")\n",
    "print(f\"진단명 정확도: {jin_acc :.3f}  (95% CI {jin_low :.3f}–{jin_high :.3f})\")\n",
    "print(f\"처방전 정확도: {che_acc :.3f}  (95% CI {che_low :.3f}–{che_high :.3f})\")\n"
   ]
  },
  {
   "cell_type": "code",
   "execution_count": 151,
   "id": "72c78866",
   "metadata": {},
   "outputs": [],
   "source": [
    "# 설치: pip install python-Levenshtein\n",
    "import Levenshtein as lev\n",
    "\n",
    "def lev_similarity(a: str, b: str) -> float:\n",
    "    dist = lev.ratio(a, b)          # 편집 거리\n",
    "    #max_len = max(len(a), len(b))\n",
    "    return dist#1 - dist / max_len          # 0~1 사이로 정규화\n",
    "\n",
    "\n",
    "\n",
    "\n",
    "\n",
    "def lev_mean(y,y2):\n",
    "    return np.mean([lev_similarity(y1[i], y2[i]) for i in range(len(y1))])\n"
   ]
  },
  {
   "cell_type": "code",
   "execution_count": 147,
   "id": "266dd9a0",
   "metadata": {},
   "outputs": [
    {
     "name": "stdout",
     "output_type": "stream",
     "text": [
      "이름  유사도 : 0.8921978404737024\n",
      "진단명 유사도 : 0.9567246821596419\n",
      "처방전 유사도: 0.9257559989037512\n"
     ]
    }
   ],
   "source": [
    "# ── 설치가 안 되어 있으면 먼저 ───────────\n",
    "# pip install python-Levenshtein\n",
    "\n",
    "import numpy as np\n",
    "import Levenshtein as lev    # lev.ratio() → 0~1 유사도 반환\n",
    "\n",
    "# 1) 두 문자열 간 유사도\n",
    "def lev_similarity(a: str, b: str) -> float:\n",
    "    return lev.ratio(a, b)   # 바로 반환하면 OK\n",
    "\n",
    "# 2) 예측 리스트 vs 정답 리스트 평균 유사도\n",
    "def lev_mean(pred_list, true_list) -> float:\n",
    "    if len(pred_list) != len(true_list):\n",
    "        raise ValueError(\"pred_list와 true_list 길이가 다릅니다.\")\n",
    "    sims = [lev_similarity(str(p), str(t))\n",
    "            for p, t in zip(pred_list, true_list)]\n",
    "    return float(np.mean(sims))\n",
    "\n",
    "# ── 사용 예시 ───────────────────────────\n",
    "name_score = lev_mean(ID_7_name_pred,\n",
    "                      ID_7_real_y['이름'].values)\n",
    "\n",
    "jin_score  = lev_mean(ID_7_jin_pred,\n",
    "                      ID_7_real_y['진단명'].values)\n",
    "\n",
    "che_score  = lev_mean(ID_7_che_pred,\n",
    "                      ID_7_real_y['처방전'].values)\n",
    "\n",
    "print(\"이름  유사도 :\", name_score)\n",
    "print(\"진단명 유사도 :\", jin_score)\n",
    "print(\"처방전 유사도:\", che_score)\n"
   ]
  },
  {
   "cell_type": "code",
   "execution_count": 153,
   "id": "863d9dc7",
   "metadata": {},
   "outputs": [
    {
     "name": "stdout",
     "output_type": "stream",
     "text": [
      "이름  평균 유사도: 0.8921978404737024\n",
      "진단명 평균 유사도: 0.9567246821596419\n",
      "처방전 평균 유사도: 0.9257559989037512\n"
     ]
    }
   ],
   "source": [
    "import numpy as np\n",
    "import Levenshtein as lev        # pip install python-Levenshtein\n",
    "\n",
    "# ── 1. 두 문자열 유사도(0~1) ───────────────────────────\n",
    "def lev_similarity(a: str, b: str) -> float:\n",
    "    return lev.ratio(str(a), str(b))     # 정규화 레벤슈타인 유사도\n",
    "\n",
    "# ── 2. 실제값 길이를 기준으로 평균 유사도 계산 ────────\n",
    "def lev_mean_from_true(pred_list, true_list) -> float:\n",
    "    m = len(true_list)                   # 실제값 길이 기준\n",
    "    sims = []\n",
    "    for i in range(m):\n",
    "        if i < len(pred_list):           # 예측이 있으면 비교\n",
    "            sims.append(lev_similarity(pred_list[i], true_list[i]))\n",
    "        else:                            # 예측이 없으면 유사도 0\n",
    "            sims.append(0.0)\n",
    "    return float(np.mean(sims))\n",
    "\n",
    "# ── 사용 예 ────────────────────────────────────────────\n",
    "name_score = lev_mean_from_true(ID_7_name_pred,\n",
    "                                ID_7_real_y['이름'].values)\n",
    "\n",
    "jin_score  = lev_mean_from_true(ID_7_jin_pred,\n",
    "                                ID_7_real_y['진단명'].values)\n",
    "\n",
    "che_score  = lev_mean_from_true(ID_7_che_pred,\n",
    "                                ID_7_real_y['처방전'].values)\n",
    "\n",
    "print(\"이름  평균 유사도:\", name_score)\n",
    "print(\"진단명 평균 유사도:\", jin_score)\n",
    "print(\"처방전 평균 유사도:\", che_score)\n"
   ]
  },
  {
   "cell_type": "code",
   "execution_count": 156,
   "id": "5f73522d",
   "metadata": {},
   "outputs": [
    {
     "name": "stdout",
     "output_type": "stream",
     "text": [
      "처방전 평균 유사도: 0.9257559989037512\n",
      "이름  : 평균 0.892  (95% CI 0.881–0.903)\n",
      "진단명: 평균 0.957  (95% CI 0.953–0.960)\n",
      "처방전: 평균 0.926  (95% CI 0.922–0.930)\n"
     ]
    }
   ],
   "source": [
    "from scipy.stats import t\n",
    "import numpy as np\n",
    "\n",
    "# ─────────────────────────────────────────────────────────────\n",
    "# 1. 점 추정값(평균) · 95 % 신뢰구간 계산\n",
    "#    - 입력: 1차원 배열 또는 리스트(scores)\n",
    "#    - 반환: (mean, ci_low, ci_high)\n",
    "# ─────────────────────────────────────────────────────────────\n",
    "def mean_ci(scores, alpha: float = 0.05):\n",
    "    scores = np.asarray(scores, dtype=float)\n",
    "    n      = len(scores)\n",
    "    m      = scores.mean()\n",
    "    se     = scores.std(ddof=1) / np.sqrt(n)   # 표준오차\n",
    "    tcrit  = t.ppf(1 - alpha/2, df=n-1)        # t_(n-1, 0.975)\n",
    "    half_w = tcrit * se                        # 반폭\n",
    "    return m, m - half_w, m + half_w\n",
    "\n",
    "# ─────────────────────────────────────────────────────────────\n",
    "# 2. 실제값 기준 평균 유사도 + 95 % CI 한 번에\n",
    "# ─────────────────────────────────────────────────────────────\n",
    "def similarity_with_ci(pred_list, true_list, **sim_kws):\n",
    "    # 샘플별 유사도 벡터 만들기\n",
    "    m = len(true_list)\n",
    "    sims = [lev_similarity(pred_list[i], true_list[i], **sim_kws)\n",
    "            if i < len(pred_list) else 0.0\n",
    "            for i in range(m)]\n",
    "    return mean_ci(sims)       # (mean, lower, upper) 튜플\n",
    "\n",
    "print(\"처방전 평균 유사도:\", che_score)\n",
    "def similarity_with_ci(pred_list, true_list, **sim_kws):\n",
    "    # 샘플별 유사도 벡터 만들기\n",
    "    m = len(true_list)\n",
    "    sims = [lev_similarity(pred_list[i], true_list[i], **sim_kws)\n",
    "            if i < len(pred_list) else 0.0\n",
    "            for i in range(m)]\n",
    "    return mean_ci(sims)   \n",
    "\n",
    "name_mean, name_low, name_high = similarity_with_ci(\n",
    "    ID_7_name_pred, ID_7_real_y['이름'].values)\n",
    "\n",
    "jin_mean,  jin_low,  jin_high  = similarity_with_ci(\n",
    "    ID_7_jin_pred,  ID_7_real_y['진단명'].values)\n",
    "\n",
    "che_mean,  che_low,  che_high  = similarity_with_ci(\n",
    "    ID_7_che_pred,  ID_7_real_y['처방전'].values)\n",
    "\n",
    "print(f\"이름  : 평균 {name_mean:.3f}  (95% CI {name_low:.3f}–{name_high:.3f})\")\n",
    "print(f\"진단명: 평균 {jin_mean :.3f}  (95% CI {jin_low :.3f}–{jin_high :.3f})\")\n",
    "print(f\"처방전: 평균 {che_mean :.3f}  (95% CI {che_low :.3f}–{che_high :.3f})\")\n"
   ]
  },
  {
   "cell_type": "code",
   "execution_count": null,
   "id": "4e4057b8-c77a-4627-80db-fc9be3a28a03",
   "metadata": {},
   "outputs": [],
   "source": []
  }
 ],
 "metadata": {
  "kernelspec": {
   "display_name": "Python 3 (ipykernel)",
   "language": "python",
   "name": "python3"
  },
  "language_info": {
   "codemirror_mode": {
    "name": "ipython",
    "version": 3
   },
   "file_extension": ".py",
   "mimetype": "text/x-python",
   "name": "python",
   "nbconvert_exporter": "python",
   "pygments_lexer": "ipython3",
   "version": "3.10.0"
  }
 },
 "nbformat": 4,
 "nbformat_minor": 5
}
