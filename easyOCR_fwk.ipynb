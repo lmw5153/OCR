{
 "cells": [
  {
   "cell_type": "code",
   "execution_count": 1,
   "id": "f6975698-70ab-4a6a-999c-7153dc4e56fa",
   "metadata": {},
   "outputs": [],
   "source": [
    "import numpy as np\n",
    "#import easyocr\n",
    "import pandas as pd\n",
    "import os\n",
    "os.environ[\"KMP_DUPLICATE_LIB_OK\"] = \"True\"   # MKL 충돌 잠시 우회\n",
    "import easyocr  \n",
    "import time\n",
    "import ast\n",
    "import sys      \n",
    "from datetime import datetime"
   ]
  },
  {
   "cell_type": "code",
   "execution_count": 102,
   "id": "9e2d27b4-f76b-49cd-8a0b-b29ec864b764",
   "metadata": {},
   "outputs": [
    {
     "name": "stdin",
     "output_type": "stream",
     "text": [
      "변환할 언어 종류 입력 (예: ['ko', 'en']):  \n"
     ]
    },
    {
     "name": "stdout",
     "output_type": "stream",
     "text": [
      "['en']\n"
     ]
    },
    {
     "name": "stdin",
     "output_type": "stream",
     "text": [
      "그래픽 사용여부 (1 : 사용, 0 : 미사용):  \n"
     ]
    },
    {
     "name": "stderr",
     "output_type": "stream",
     "text": [
      "Neither CUDA nor MPS are available - defaulting to CPU. Note: This module is much faster with a GPU.\n"
     ]
    },
    {
     "name": "stdout",
     "output_type": "stream",
     "text": [
      "True\n",
      "총 3장 불러옴\n"
     ]
    }
   ],
   "source": [
    "\n",
    "\n",
    "s = input(\"변환할 언어 종류 입력 (예: ['ko', 'en']): \").strip()\n",
    "\n",
    "if not s:                               # 그냥 Enter → 기본값\n",
    "    langs = ['en']\n",
    "else:\n",
    "    try:\n",
    "        langs = ast.literal_eval(s)     # 문자열 → 리스트\n",
    "        if not isinstance(langs, list): # 리스트인지 한 번 더 확인\n",
    "            raise ValueError\n",
    "    except (ValueError, SyntaxError):\n",
    "        print(\"⚠️  리스트 형태로 입력하세요. 예: ['ko', 'en']\")\n",
    "        sys.exit(1)\n",
    "\n",
    "print(langs)   \n",
    "\n",
    "g = input(\"그래픽 사용여부 (1 : 사용, 0 : 미사용): \")#.astype(float)\n",
    "\n",
    "if g == '':                               # 그냥 Enter → 기본값\n",
    "    usegpu = True\n",
    "else:\n",
    "    try:\n",
    "        #langs = ast.literal_eval(s)     # 문자열 → 리스트\n",
    "        usegpu = (float(g) == 1)\n",
    "        if not isinstance( usegpu, bool): # 리스트인지 한 번 더 확인\n",
    "            raise ValueError\n",
    "    except (ValueError, SyntaxError):\n",
    "        print(\"0또는 1을 입력하세요 예: 1\")\n",
    "        sys.exit(1)\n",
    "\n",
    "print( usegpu)   \n",
    "\n",
    "\n",
    "# 1️⃣ 이미지가 들어 있는 폴더 경로\n",
    "\n",
    "img_dir = \"real_data/\"     # ← 자신의 폴더명으로 수정\n",
    "\n",
    "# 2️⃣ 디렉터리 내 모든 *.png 경로 수집 (정렬 포함)\n",
    "image_paths = sorted(\n",
    "    os.path.join(img_dir, fname)\n",
    "    for fname in os.listdir(img_dir)\n",
    "    if fname.lower().endswith(\".png\")           # 확장자 필터\n",
    ")\n",
    "\n",
    "print(f\"총 {len(image_paths)}장 불러옴\")\n",
    "\n",
    "\n",
    "\n",
    "reader = easyocr.Reader(langs, gpu= usegpu)"
   ]
  },
  {
   "cell_type": "code",
   "execution_count": 118,
   "id": "2d8c8728-f0fb-4cfb-9a6a-c2ad7b3d873c",
   "metadata": {},
   "outputs": [
    {
     "name": "stderr",
     "output_type": "stream",
     "text": [
      "C:\\Users\\USER\\anaconda3\\Lib\\site-packages\\torch\\utils\\data\\dataloader.py:665: UserWarning: 'pin_memory' argument is set as true but no accelerator is found, then device pinned memory won't be used.\n",
      "  warnings.warn(warn_msg)\n"
     ]
    },
    {
     "name": "stdout",
     "output_type": "stream",
     "text": [
      "0.9783154999986436\n",
      "✅ OCR 결과가 저장되었습니다 ➜ result\\eaysocr_results_20250714_132157.csv\n"
     ]
    }
   ],
   "source": [
    "\n",
    "t0 = time.perf_counter()\n",
    "\n",
    "ocr_results = []\n",
    "for path in image_paths[1:]:\n",
    "    #result = reader.readtext(path)\n",
    "    result  = reader.readtext(\n",
    "    path,\n",
    "     #'real_data/crop_realdata.png' ,\n",
    "  allowlist = '0123456789.',\n",
    "   decoder   = 'beamsearch',\n",
    "    beamWidth = 1000,\n",
    "    mag_ratio = 3,\n",
    "   contrast_ths    = 0.05,\n",
    "        canvas_size     = 512,\n",
    "   adjust_contrast = 0.7,\n",
    "    link_threshold  = 0.4,\n",
    "    detail    = 1) \n",
    "    \n",
    "    for _, text, conf in result:\n",
    "        ocr_results.append({\n",
    "            \"filename\": path.split('/')[-1],\n",
    "            \"text\": text,\n",
    "            \"confidence\": round(conf, 2)\n",
    "        })\n",
    "\n",
    "df_ocr = pd.DataFrame(ocr_results)\n",
    "\n",
    "# ── 2. 시간 측정 종료 ──────────────────────────────────────\n",
    "elapsed = time.perf_counter() - t0\n",
    "print(elapsed)\n",
    "\n",
    "\n",
    "\n",
    "# ── 1) OCR 결과를 DataFrame으로 만들기 ───────────────────\n",
    "df_ocr = pd.DataFrame(ocr_results)    # 앞에서 만든 ocr_results 사용\n",
    "\n",
    "# ── 2) 결과 폴더 생성 (이미 있으면 건너뜀) ────────────────\n",
    "result_dir = \"result\"\n",
    "os.makedirs(result_dir, exist_ok=True)\n",
    "\n",
    "# ── 3) 파일 이름(타임스탬프 포함) 설정 ───────────────────\n",
    "timestamp   = datetime.now().strftime(\"%Y%m%d_%H%M%S\")  # 예: 20250714_105230\n",
    "file_name   = f\"eaysocr_results_{timestamp}.csv\"\n",
    "file_path   = os.path.join(result_dir, file_name)\n",
    "\n",
    "# ── 4) 저장 ───────────────────────────────────────────────\n",
    "df_ocr.to_csv(file_path, index=False, encoding=\"utf-8-sig\")  # Excel에서 한글 깨짐 방지\n",
    "\n",
    "print(f\"✅ OCR 결과가 저장되었습니다 ➜ {file_path}\")"
   ]
  }
 ],
 "metadata": {
  "kernelspec": {
   "display_name": "Python 3 (ipykernel)",
   "language": "python",
   "name": "python3"
  },
  "language_info": {
   "codemirror_mode": {
    "name": "ipython",
    "version": 3
   },
   "file_extension": ".py",
   "mimetype": "text/x-python",
   "name": "python",
   "nbconvert_exporter": "python",
   "pygments_lexer": "ipython3",
   "version": "3.10.0"
  }
 },
 "nbformat": 4,
 "nbformat_minor": 5
}
